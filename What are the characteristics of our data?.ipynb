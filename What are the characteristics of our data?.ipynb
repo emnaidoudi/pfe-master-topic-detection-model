{
 "cells": [
  {
   "cell_type": "code",
   "execution_count": 1,
   "metadata": {},
   "outputs": [],
   "source": [
    "import collections\n",
    "from sentence_transformers import SentenceTransformer\n",
    "import umap\n",
    "import hdbscan\n",
    "import matplotlib.pyplot as plt\n",
    "import pandas as pd \n",
    "import numpy as np\n",
    "import pandas as pd\n",
    "from spacy.lang.fr.stop_words import STOP_WORDS as fr_stop\n",
    "from spacy.lang.en.stop_words import STOP_WORDS as en_stop\n",
    "import re\n",
    "import emoji\n",
    "import spacy\n",
    "from spacy_lefff import LefffLemmatizer, POSTagger\n",
    "from spacy.language import Language\n",
    "from collections import OrderedDict\n",
    "from sklearn.feature_extraction.text import CountVectorizer\n",
    "import datetime\n",
    "import re, seaborn as sns\n",
    "import numpy as np\n",
    "\n",
    "from matplotlib import pyplot as plt\n",
    "from mpl_toolkits.mplot3d import Axes3D\n",
    "from matplotlib.colors import ListedColormap\n"
   ]
  },
  {
   "cell_type": "code",
   "execution_count": 2,
   "metadata": {},
   "outputs": [],
   "source": [
    "df = pd.read_csv(\"posts_mamda.csv\")\n",
    "#df = df[500:]"
   ]
  },
  {
   "cell_type": "code",
   "execution_count": 3,
   "metadata": {},
   "outputs": [],
   "source": [
    "days = [\"terminer\",\"dej\",\"read\",\"qu\",\"bon\",\"actually\",\"itbu\",\"amir\",\"kods\",\"dé\",\"année\",\"début\",\"dweck\",\"nan\",\"monday\",\"year\",\"wednesday\",\"bu\",\"meta4\",\"lundi\", \"mardi\", \"mercredi\", \"jeudi\", \"vendredi\", \"samedi\",\"dimanche\"]\n",
    "verbs = [\"dém\",\"réponse\",\"nshalah\",\"voir\",\"nom\",\"nqué\",\"perdre\",\"chercher\",\"partagerr\",\"aller\",\"decide\",\n",
    "\"chose\",\"passer\",\"jour\",\"monsieur\",\"madame\",\"qotd\",\"sma\",\"donne\",\"semaine\",\"journée\",\n",
    "\"prendre\",\"temps\",\"réponse\"\"best\",\"ooredoo\",\"amen\",\"naimos\",\"acretio\",\"faire\",\"pouvoir\",\n",
    "\"savoir\",\"lire\",\"dire\",\"souhaiter\",\"ien\",\"saa\",\"venir\",\"weekend\",\"number\",\"donner\",\n",
    "\"parler\",\"tenir\",\"Connaitre\",\" Demander\",\"sortir\"]"
   ]
  },
  {
   "cell_type": "code",
   "execution_count": 4,
   "metadata": {},
   "outputs": [],
   "source": [
    "@Language.factory('french_lemmatizer')\n",
    "def create_lemmatizer(nlp, name):\n",
    "    return LefffLemmatizer()   \n",
    "def replace_word(text, findWord, replaceWord):\n",
    "    return ' '.join(replaceWord if word == findWord else word for word in text.split(' '))"
   ]
  },
  {
   "cell_type": "code",
   "execution_count": 5,
   "metadata": {},
   "outputs": [],
   "source": [
    "nlp = spacy.load('fr_core_news_md')\n",
    "nlp.add_pipe('french_lemmatizer', name='lefff')  \n",
    "def replace_lemma(text):  \n",
    "    doc = nlp(text)\n",
    "    for d in doc:\n",
    "        if(d.pos_ != \"PROPN\" and d.pos_ != \"NUM\" and d.pos_ != \"AUX\" and d.pos_ !='DET' and d.pos_ !='PRON' and d.pos_ !='ADJ' and d.pos_ !='ADV'):\n",
    "            text = replace_word(text, d.text, d.lemma_)\n",
    "        else:\n",
    "            text = replace_word(text, d.text, '')        \n",
    "    return text "
   ]
  },
  {
   "cell_type": "code",
   "execution_count": 6,
   "metadata": {},
   "outputs": [],
   "source": [
    "def _remove_emoji(string):\n",
    "    return emoji.get_emoji_regexp().sub(u'', string)\n",
    "\n",
    "final_stopwords_list = list(fr_stop) + list(en_stop)+days+verbs\n",
    "def custom_stopwords(text):\n",
    "    #common_words    \n",
    "    text = \" \".join([w for w in str(text).split() if w.lower() not in final_stopwords_list])\n",
    "    #HTML TAGS\n",
    "    text = re.sub(r'<.*?>', '', text)\n",
    "    #links\n",
    "    text = re.sub(\"https?:\\/\\/.*[\\r\\n]*\", \"\", text)  \n",
    "    #alpha_numeric\n",
    "    text = re.sub(r'[^a-zA-Z0-9 àâäèéêëîïôœùûüÿçÀÂÄÈÉÊËÎÏÔ\\'ŒÙÛÜŸÇ]+', '', text)\n",
    "    # remove emojis\n",
    "    text = _remove_emoji(text)\n",
    "    #remove duplicate space\n",
    "    clear_text = \" \".join(text.split())\n",
    "    \n",
    "    return clear_text"
   ]
  },
  {
   "cell_type": "code",
   "execution_count": 7,
   "metadata": {},
   "outputs": [],
   "source": [
    "def remove_stop_after_lemm(text):\n",
    "    text = \" \".join([w for w in text.split() if w.lower() not in final_stopwords_list])\n",
    "    return text"
   ]
  },
  {
   "cell_type": "code",
   "execution_count": null,
   "metadata": {},
   "outputs": [],
   "source": []
  },
  {
   "cell_type": "code",
   "execution_count": 8,
   "metadata": {},
   "outputs": [],
   "source": [
    "def prepare():\n",
    "    global df\n",
    "    df[\"body\"] = df[\"body\"].apply(custom_stopwords)\n",
    "    df = df[df['body'].map(len)>1]\n",
    "    df[\"body\"] = df[\"body\"].apply(replace_lemma)\n",
    "    df[\"body\"] = df[\"body\"].apply(remove_stop_after_lemm)    \n",
    "prepare()    "
   ]
  },
  {
   "cell_type": "code",
   "execution_count": 9,
   "metadata": {},
   "outputs": [
    {
     "name": "stderr",
     "output_type": "stream",
     "text": [
      "/home/emna/.local/lib/python3.7/site-packages/torch/cuda/__init__.py:52: UserWarning: CUDA initialization: Found no NVIDIA driver on your system. Please check that you have an NVIDIA GPU and installed a driver from http://www.nvidia.com/Download/index.aspx (Triggered internally at  /pytorch/c10/cuda/CUDAFunctions.cpp:100.)\n",
      "  return torch._C._cuda_getDeviceCount() > 0\n"
     ]
    }
   ],
   "source": [
    "data = df[\"body\"].values  \n",
    "#embeddings\n",
    "model = SentenceTransformer('distilbert-base-nli-mean-tokens')\n",
    "embeddings = model.encode(data) "
   ]
  },
  {
   "cell_type": "code",
   "execution_count": 10,
   "metadata": {},
   "outputs": [
    {
     "data": {
      "text/plain": [
       "<matplotlib.colorbar.Colorbar at 0x7fceac31df90>"
      ]
     },
     "execution_count": 10,
     "metadata": {},
     "output_type": "execute_result"
    },
    {
     "data": {
      "image/png": "[encoded data removed]",
      "text/plain": [
       "<Figure size 1080x360 with 2 Axes>"
      ]
     },
     "metadata": {
      "needs_background": "light"
     },
     "output_type": "display_data"
    }
   ],
   "source": [
    "umap_embeddings = umap.UMAP(n_neighbors=8, \n",
    "                        n_components=2, \n",
    "                        metric='cosine').fit_transform(embeddings)\n",
    "LABEL_COLOR_MAP = dict()\n",
    "result = pd.DataFrame(umap_embeddings, columns=['x', 'y'])\n",
    "fig, ax = plt.subplots(figsize=(15, 5))\n",
    "list_colors = [\"#0a0a0a\"]\n",
    "lista=list(set(result.x.values))\n",
    "for i in lista:\n",
    "    LABEL_COLOR_MAP[i]=\"#0a0a0a\"\n",
    "label_color = [LABEL_COLOR_MAP[l] for l in result.x.values]\n",
    "plt.scatter(result.x, result.y,c=label_color, cmap=label_color, s=4)\n",
    "plt.colorbar()"
   ]
  },
  {
   "cell_type": "code",
   "execution_count": 12,
   "metadata": {},
   "outputs": [],
   "source": [
    "# umap is a dimensionality reduction algorithm\n",
    "umap_embeddings_1 = umap.UMAP(n_neighbors=8, \n",
    "                        n_components=3, \n",
    "                        metric='cosine').fit_transform(embeddings)"
   ]
  },
  {
   "cell_type": "code",
   "execution_count": null,
   "metadata": {},
   "outputs": [],
   "source": [
    "\n"
   ]
  },
  {
   "cell_type": "code",
   "execution_count": 20,
   "metadata": {
    "scrolled": true
   },
   "outputs": [
    {
     "data": {
      "text/plain": [
       "<matplotlib.colorbar.Colorbar at 0x7fcead5eab10>"
      ]
     },
     "execution_count": 20,
     "metadata": {},
     "output_type": "execute_result"
    },
    {
     "data": {
      "image/png": "[encoded data removed]",
      "text/plain": [
       "<Figure size 1080x360 with 2 Axes>"
      ]
     },
     "metadata": {
      "needs_background": "light"
     },
     "output_type": "display_data"
    }
   ],
   "source": [
    "#Clustering\n",
    "cluster = hdbscan.HDBSCAN(min_cluster_size=5, min_samples=1,\n",
    "                          metric='euclidean',                      \n",
    "                          cluster_selection_method='leaf').fit(umap_embeddings_1)\n",
    "result = pd.DataFrame(umap_embeddings, columns=['x', 'y'])\n",
    "result['labels'] = cluster.labels_\n",
    "# Visualize clusters\n",
    "cmap = ListedColormap(sns.color_palette(\"husl\", 256).as_hex())\n",
    "fig, ax = plt.subplots(figsize=(15, 5))\n",
    "outliers = result.loc[result.labels == -1, :]\n",
    "clustered = result.loc[result.labels != -1, :]\n",
    "plt.scatter(outliers.x, outliers.y, color='#f5f0f0')\n",
    "# LABEL_COLOR_MAP = dict()\n",
    "# list_colors = [\"#42d419\",\"#F1602D\",\"#2DF1C0\",\"#2d99f1\",\"#CB8E9F\",\"#dc8e1e\",\"#095225\",\"#DC341E\",\"#DC1E7D\"]\n",
    "# lista=list(set(clustered.labels.values))\n",
    "# for i,j in zip(lista,list_colors):\n",
    "#     LABEL_COLOR_MAP[i]=j\n",
    "# label_color = [LABEL_COLOR_MAP[l] for l in clustered.labels.values]\n",
    "plt.scatter(clustered.x, clustered.y, c=clustered.x,  cmap=cmap, s=4)\n",
    "plt.colorbar()"
   ]
  },
  {
   "cell_type": "code",
   "execution_count": null,
   "metadata": {},
   "outputs": [],
   "source": []
  },
  {
   "cell_type": "code",
   "execution_count": null,
   "metadata": {},
   "outputs": [],
   "source": [
    "#Clustering\n",
    "cluster = hdbscan.HDBSCAN(min_cluster_size=2,\n",
    "                          metric='euclidean',                      \n",
    "                          cluster_selection_method='leaf').fit(umap_embeddings_1)\n",
    "\n"
   ]
  },
  {
   "cell_type": "code",
   "execution_count": null,
   "metadata": {},
   "outputs": [],
   "source": []
  }
 ],
 "metadata": {
  "kernelspec": {
   "display_name": "Python 3",
   "language": "python",
   "name": "python3"
  },
  "language_info": {
   "codemirror_mode": {
    "name": "ipython",
    "version": 3
   },
   "file_extension": ".py",
   "mimetype": "text/x-python",
   "name": "python",
   "nbconvert_exporter": "python",
   "pygments_lexer": "ipython3",
   "version": "3.7.6"
  }
 },
 "nbformat": 4,
 "nbformat_minor": 4
}
