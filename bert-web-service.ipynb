{
 "cells": [
  {
   "cell_type": "code",
   "execution_count": 2,
   "metadata": {},
   "outputs": [],
   "source": [
    "from matplotlib.colors import ListedColormap\n",
    "import re, seaborn as sns"
   ]
  },
  {
   "cell_type": "code",
   "execution_count": 3,
   "metadata": {},
   "outputs": [],
   "source": [
    "import collections\n",
    "from sentence_transformers import SentenceTransformer\n",
    "import umap\n",
    "import hdbscan\n",
    "import matplotlib.pyplot as plt\n",
    "import pandas as pd \n",
    "import numpy as np\n",
    "from collections import OrderedDict\n",
    "import pandas as pd\n",
    "from pymongo import MongoClient\n",
    "from spacy.lang.fr.stop_words import STOP_WORDS as fr_stop\n",
    "from spacy.lang.en.stop_words import STOP_WORDS as en_stop\n",
    "import re\n",
    "import emoji\n",
    "import spacy\n",
    "from spacy_lefff import LefffLemmatizer, POSTagger\n",
    "from spacy.language import Language\n",
    "from collections import OrderedDict\n",
    "from sklearn.feature_extraction.text import CountVectorizer\n",
    "import datetime"
   ]
  },
  {
   "cell_type": "markdown",
   "metadata": {},
   "source": [
    "# Collect data"
   ]
  },
  {
   "cell_type": "code",
   "execution_count": 4,
   "metadata": {},
   "outputs": [],
   "source": [
    "host = \"localhost\"\n",
    "port = \"27017\"\n",
    "username = \"accretioadmin\"\n",
    "password = \"adminaccretio&2017\"\n",
    "authSource = \"admin\"\n",
    "\n",
    "def _connect_mongo(db):\n",
    "    if username and password:\n",
    "        conn = MongoClient(host=host,\n",
    "                            port=int(port),\n",
    "                            username=username,\n",
    "                            password=password,\n",
    "                           authSource=authSource)\n",
    "    else:\n",
    "        conn = MongoClient(host, port)\n",
    "        \n",
    "    return conn[db]    \n",
    "\n",
    "\n",
    "def read_mongo(db, collection, query={}):\n",
    "    db = _connect_mongo(db=db)\n",
    "    cursor = db[collection].find(query)\n",
    "    df =  pd.DataFrame(list(cursor))\n",
    "    return df"
   ]
  },
  {
   "cell_type": "code",
   "execution_count": null,
   "metadata": {},
   "outputs": [],
   "source": [
    "# col = df.columns\n",
    "# df.to_csv(\"posts_advyteam.csv\",index= False, header = col)"
   ]
  },
  {
   "cell_type": "code",
   "execution_count": 5,
   "metadata": {},
   "outputs": [
    {
     "name": "stdout",
     "output_type": "stream",
     "text": [
      "(1775, 3)\n"
     ]
    }
   ],
   "source": [
    "df = read_mongo(\"connectTimeline\", \"post\")\n",
    "\n",
    "df[\"post_id\"] = df[\"_id\"].astype(str)\n",
    "\n",
    "df = df[[\"post_id\",\"registrationNumber\",\"body\"]]\n",
    "\n",
    "df[\"registrationNumber\"] = df[\"registrationNumber\"].astype(str)\n",
    "df[\"body\"].dropna()\n",
    "print(df.shape)\n",
    "df = df[500:]"
   ]
  },
  {
   "cell_type": "code",
   "execution_count": 6,
   "metadata": {},
   "outputs": [
    {
     "data": {
      "text/html": [
       "<div>\n",
       "<style scoped>\n",
       "    .dataframe tbody tr th:only-of-type {\n",
       "        vertical-align: middle;\n",
       "    }\n",
       "\n",
       "    .dataframe tbody tr th {\n",
       "        vertical-align: top;\n",
       "    }\n",
       "\n",
       "    .dataframe thead th {\n",
       "        text-align: right;\n",
       "    }\n",
       "</style>\n",
       "<table border=\"1\" class=\"dataframe\">\n",
       "  <thead>\n",
       "    <tr style=\"text-align: right;\">\n",
       "      <th></th>\n",
       "      <th>post_id</th>\n",
       "      <th>registrationNumber</th>\n",
       "      <th>body</th>\n",
       "    </tr>\n",
       "  </thead>\n",
       "  <tbody>\n",
       "    <tr>\n",
       "      <th>500</th>\n",
       "      <td>5c2ded63a4791700013bfeb1</td>\n",
       "      <td>00025</td>\n",
       "      <td>Souhaitons la bienvenue à ma voisine de bureau...</td>\n",
       "    </tr>\n",
       "  </tbody>\n",
       "</table>\n",
       "</div>"
      ],
      "text/plain": [
       "                      post_id registrationNumber  \\\n",
       "500  5c2ded63a4791700013bfeb1              00025   \n",
       "\n",
       "                                                  body  \n",
       "500  Souhaitons la bienvenue à ma voisine de bureau...  "
      ]
     },
     "execution_count": 6,
     "metadata": {},
     "output_type": "execute_result"
    }
   ],
   "source": [
    "df.head(1)"
   ]
  },
  {
   "cell_type": "code",
   "execution_count": null,
   "metadata": {},
   "outputs": [],
   "source": [
    "# df = pd.read_csv(\"posts.csv\")\n",
    "# df = df[500:]"
   ]
  },
  {
   "cell_type": "markdown",
   "metadata": {},
   "source": [
    "# Data preparation"
   ]
  },
  {
   "cell_type": "code",
   "execution_count": 7,
   "metadata": {},
   "outputs": [],
   "source": [
    "days = [\"terminer\",\"dej\",\"read\",\"qu\",\"bon\",\"actually\",\"itbu\",\"amir\",\"kods\",\"dé\",\"année\",\"début\",\"dweck\",\"nan\",\"monday\",\"year\",\"wednesday\",\"bu\",\"meta4\",\"lundi\", \"mardi\", \"mercredi\", \"jeudi\", \"vendredi\", \"samedi\",\"dimanche\"]\n",
    "verbs = [\"dém\",\"réponse\",\"nshalah\",\"voir\",\"nom\",\"nqué\",\"perdre\",\"chercher\",\"partagerr\",\"aller\",\"decide\",\n",
    "\"chose\",\"passer\",\"jour\",\"monsieur\",\"madame\",\"qotd\",\"sma\",\"donne\",\"semaine\",\"journée\",\n",
    "\"prendre\",\"temps\",\"réponse\"\"best\",\"ooredoo\",\"amen\",\"naimos\",\"acretio\",\"faire\",\"pouvoir\",\n",
    "\"savoir\",\"lire\",\"dire\",\"souhaiter\",\"ien\",\"saa\",\"venir\",\"weekend\",\"number\",\"donner\",\n",
    "\"parler\",\"tenir\",\"Connaitre\",\" Demander\",\"sortir\"]"
   ]
  },
  {
   "cell_type": "code",
   "execution_count": 8,
   "metadata": {},
   "outputs": [],
   "source": [
    "@Language.factory('french_lemmatizer')\n",
    "def create_lemmatizer(nlp, name):\n",
    "    return LefffLemmatizer()   \n"
   ]
  },
  {
   "cell_type": "code",
   "execution_count": 9,
   "metadata": {},
   "outputs": [],
   "source": [
    "def replace_word(text, findWord, replaceWord):\n",
    "    return ' '.join(replaceWord if word == findWord else word for word in text.split(' '))"
   ]
  },
  {
   "cell_type": "code",
   "execution_count": 10,
   "metadata": {},
   "outputs": [],
   "source": [
    "nlp = spacy.load('fr_core_news_md')\n",
    "nlp.add_pipe('french_lemmatizer', name='lefff')  \n",
    "def replace_lemma(text):  \n",
    "    doc = nlp(text)\n",
    "    for d in doc:\n",
    "        if(d.pos_ != \"PROPN\" and d.pos_ != \"NUM\" and d.pos_ != \"AUX\" and d.pos_ !='DET' and d.pos_ !='PRON' and d.pos_ !='ADJ' and d.pos_ !='ADV'):\n",
    "            text = replace_word(text, d.text, d.lemma_)\n",
    "        else:\n",
    "            text = replace_word(text, d.text, '')        \n",
    "    return text "
   ]
  },
  {
   "cell_type": "code",
   "execution_count": 11,
   "metadata": {},
   "outputs": [],
   "source": [
    "def _remove_emoji(string):\n",
    "    return emoji.get_emoji_regexp().sub(u'', string)\n",
    "\n",
    "final_stopwords_list = list(fr_stop) + list(en_stop)+days+verbs\n",
    "def custom_stopwords(text):\n",
    "    #common_words    \n",
    "    text = \" \".join([w for w in str(text).split() if w.lower() not in final_stopwords_list])\n",
    "    #HTML TAGS\n",
    "    text = re.sub(r'<.*?>', '', text)\n",
    "    #links\n",
    "    text = re.sub(\"https?:\\/\\/.*[\\r\\n]*\", \"\", text)  \n",
    "    #alpha_numeric\n",
    "    text = re.sub(r'[^a-zA-Z0-9 àâäèéêëîïôœùûüÿçÀÂÄÈÉÊËÎÏÔ\\'ŒÙÛÜŸÇ]+', '', text)\n",
    "    # remove emojis\n",
    "    text = _remove_emoji(text)\n",
    "    #remove duplicate space\n",
    "    clear_text = \" \".join(text.split())\n",
    "    \n",
    "    return clear_text"
   ]
  },
  {
   "cell_type": "code",
   "execution_count": 12,
   "metadata": {},
   "outputs": [],
   "source": [
    "def remove_stop_after_lemm(text):\n",
    "    text = \" \".join([w for w in text.split() if w.lower() not in final_stopwords_list])\n",
    "    return text"
   ]
  },
  {
   "cell_type": "code",
   "execution_count": 13,
   "metadata": {},
   "outputs": [],
   "source": [
    "def prepare():\n",
    "    global df\n",
    "    df[\"body\"] = df[\"body\"].apply(custom_stopwords)\n",
    "    df = df[df['body'].map(len)>1]\n",
    "    df[\"body\"] = df[\"body\"].apply(replace_lemma)\n",
    "    df[\"body\"] = df[\"body\"].apply(remove_stop_after_lemm)    \n",
    "prepare()    "
   ]
  },
  {
   "cell_type": "code",
   "execution_count": 14,
   "metadata": {},
   "outputs": [],
   "source": [
    "def word_clouds(top_words, df):\n",
    "    current_date = datetime.date.today().isoformat()\n",
    "    df[\"Topic\"] = df[\"Topic\"].astype(str)     \n",
    "    topics = list()\n",
    "    for topic, value in top_words.items():\n",
    "        if str(topic ) != \"-1\": #outilers\n",
    "            topic_dict = dict()  \n",
    "            topic_dict[\"idtopic\"] = topic\n",
    "            topic_dict[\"assigned_name\"] = value[1][0]\n",
    "            topic_dict[\"date\"] = current_date\n",
    "            topic_dict[\"importance\"] = len(list(df[df[\"Topic\"] == str(topic)][\"posts\"])[0])\n",
    "            topic_dict[\"posts\"] =  list(df[df[\"Topic\"] == str(topic)][\"posts\"])[0]\n",
    "            words = list()\n",
    "            word_dict = dict()\n",
    "            for i in value:\n",
    "                word_dict[\"text\"] = i[0]\n",
    "                word_dict[\"weight\"] = i[1]   \n",
    "                words.append(word_dict.copy())\n",
    "            words.append({\"idtopic\":topic, \"assigned_name\": value[1][0]})    \n",
    "            topic_dict[\"word-cloud\"]  = words\n",
    "            topics.append(topic_dict.copy())\n",
    "    return topics"
   ]
  },
  {
   "cell_type": "code",
   "execution_count": 15,
   "metadata": {},
   "outputs": [],
   "source": [
    "def order_people(ch):\n",
    "    l = ch.split()\n",
    "    temp = l[:]\n",
    "    l.sort(key=lambda x:temp.count(x), reverse= True)\n",
    "    return list(dict.fromkeys(l))  "
   ]
  },
  {
   "cell_type": "code",
   "execution_count": 16,
   "metadata": {},
   "outputs": [],
   "source": [
    "def c_tf_idf(documents, m, ngram_range=(1, 1)):\n",
    "    count = CountVectorizer(ngram_range=ngram_range, stop_words=final_stopwords_list).fit(documents)\n",
    "    t = count.transform(documents).toarray()\n",
    "    w = t.sum(axis=1)\n",
    "    tf = np.divide(t.T, w)\n",
    "    sum_t = t.sum(axis=0)\n",
    "    idf = np.log(np.divide(m, sum_t)).reshape(-1, 1)\n",
    "    tf_idf = np.multiply(tf, idf)\n",
    "\n",
    "    return tf_idf, count"
   ]
  },
  {
   "cell_type": "code",
   "execution_count": 17,
   "metadata": {},
   "outputs": [],
   "source": [
    "a=dict()"
   ]
  },
  {
   "cell_type": "code",
   "execution_count": 18,
   "metadata": {},
   "outputs": [],
   "source": [
    "def extract_topic_sizes(df):\n",
    "    topic_sizes = (df.groupby(['Topic'])\n",
    "                     .Doc\n",
    "                     .count()\n",
    "                     .reset_index()\n",
    "                     .rename({\"Topic\": \"Topic\", \"Doc\": \"Size\"}, axis='columns')\n",
    "                     .sort_values(\"Size\", ascending=False))\n",
    "    return topic_sizes\n",
    "\n",
    "def extract_top_n_words_per_topic(tf_idf, count, docs_per_topic, docs, n=20):\n",
    "    words = count.get_feature_names()\n",
    "    labels = list(docs_per_topic.Topic)\n",
    "    tf_idf_transposed = tf_idf.T\n",
    "    indices = tf_idf_transposed.argsort()[:, -n:]\n",
    "    top_n_words = {label: [(words[j], tf_idf_transposed[i][j]) for j in indices[i]][::-1] for i, label in enumerate(labels)}\n",
    "    topic_sizes = extract_topic_sizes(docs)\n",
    "    # sort the dict to get the HOT topics ordered\n",
    "    top_n_words = OrderedDict(top_n_words)\n",
    "    key_order = list(topic_sizes[\"Topic\"].values)\n",
    "    for k in key_order:\n",
    "        top_n_words.move_to_end(k)\n",
    "    top_n_words = dict(top_n_words) \n",
    "    global a\n",
    "    a = top_n_words\n",
    "    return word_clouds(top_n_words, docs_per_topic)\n",
    "    "
   ]
  },
  {
   "cell_type": "code",
   "execution_count": 32,
   "metadata": {},
   "outputs": [],
   "source": [
    "def build_model():\n",
    "    data = df[\"body\"].values  \n",
    "    #embeddings\n",
    "    model = SentenceTransformer('distilbert-base-nli-mean-tokens')\n",
    "    embeddings = model.encode(data)  \n",
    "    # umap is a  dimensionality reduction algorithm\n",
    "    umap_embeddings = umap.UMAP(n_neighbors=8, \n",
    "                            n_components=3, \n",
    "                            metric='cosine').fit_transform(embeddings)\n",
    "\n",
    "    #Clustering\n",
    "    cluster = hdbscan.HDBSCAN(min_cluster_size=35, min_samples=8,\n",
    "                              metric='euclidean',                      \n",
    "                              cluster_selection_method='leaf').fit(umap_embeddings)\n",
    "    \n",
    "    # Prepare data\n",
    "    umap_data = umap.UMAP(n_neighbors=8, n_components=2, min_dist=0.0, metric='cosine').fit_transform(embeddings)\n",
    "    result = pd.DataFrame(umap_data, columns=['x', 'y'])\n",
    "    result['labels'] = cluster.labels_\n",
    "    \n",
    "    docs_df = pd.DataFrame(data, columns=[\"Doc\"])\n",
    "    docs_df[\"posts\"] = df[\"post_id\"].astype(\"str\").values\n",
    "    docs_df['Topic'] = cluster.labels_\n",
    "    docs_df['Doc_ID'] = range(len(docs_df))\n",
    "    docs_per_topic = docs_df.groupby(['Topic'], as_index = False).agg({'Doc': ' '.join, 'posts': ' '.join})#\n",
    "    # concatenate docs with same topic (with space) ---->  'Doc': ' '.join\n",
    "    docs_per_topic[\"posts\"] =docs_per_topic[\"posts\"].apply(lambda x: order_people(x))\n",
    "    #TF-IDF\n",
    "    tf_idf, count = c_tf_idf(docs_per_topic.Doc.values, m=len(data))\n",
    "    top_n_words = extract_top_n_words_per_topic(tf_idf, count, docs_per_topic, docs_df, n=10)  \n",
    "    return top_n_words, result\n"
   ]
  },
  {
   "cell_type": "code",
   "execution_count": 33,
   "metadata": {},
   "outputs": [
    {
     "name": "stderr",
     "output_type": "stream",
     "text": [
      "/home/emna/anaconda3/lib/python3.7/site-packages/sklearn/feature_extraction/text.py:385: UserWarning: Your stop_words may be inconsistent with your preprocessing. Tokenizing the stop words generated tokens ['connaitre', 'demander', 'll', 'neuf', 'quelqu', 've'] not in stop_words.\n",
      "  'stop_words.' % sorted(inconsistent))\n"
     ]
    }
   ],
   "source": [
    "top_n_words, result = build_model()"
   ]
  },
  {
   "cell_type": "code",
   "execution_count": 34,
   "metadata": {
    "scrolled": true
   },
   "outputs": [
    {
     "data": {
      "text/plain": [
       "6"
      ]
     },
     "execution_count": 34,
     "metadata": {},
     "output_type": "execute_result"
    }
   ],
   "source": [
    "len(top_n_words)"
   ]
  },
  {
   "cell_type": "code",
   "execution_count": 35,
   "metadata": {
    "scrolled": false
   },
   "outputs": [
    {
     "data": {
      "text/plain": [
       "<matplotlib.colorbar.Colorbar at 0x7fc1e9cf7590>"
      ]
     },
     "execution_count": 35,
     "metadata": {},
     "output_type": "execute_result"
    },
    {
     "data": {
      "image/png": "[encoded data removed]",
      "text/plain": [
       "<Figure size 1080x360 with 2 Axes>"
      ]
     },
     "metadata": {
      "needs_background": "light"
     },
     "output_type": "display_data"
    }
   ],
   "source": [
    "# Visualize clusters\n",
    "cmap = ListedColormap(sns.color_palette(\"husl\", 256).as_hex())\n",
    "\n",
    "fig, ax = plt.subplots(figsize=(15, 5))\n",
    "outliers = result.loc[result.labels == -1, :]\n",
    "clustered = result.loc[result.labels != -1, :]\n",
    "plt.scatter(outliers.x, outliers.y, color='#f5f0f0')\n",
    "plt.scatter(clustered.x, clustered.y, c=clustered.labels,  cmap=cmap, s=7)\n",
    "plt.colorbar()"
   ]
  },
  {
   "cell_type": "code",
   "execution_count": null,
   "metadata": {},
   "outputs": [],
   "source": [
    "top_n_words"
   ]
  },
  {
   "cell_type": "code",
   "execution_count": 37,
   "metadata": {
    "scrolled": true
   },
   "outputs": [
    {
     "data": {
      "text/plain": [
       "<pymongo.results.InsertManyResult at 0x7fc1e9f64230>"
      ]
     },
     "execution_count": 37,
     "metadata": {},
     "output_type": "execute_result"
    }
   ],
   "source": [
    "# import pymongo as pm\n",
    "\n",
    "# myclient = pm.MongoClient(host=\"localhost\",\n",
    "#                     port=27017,\n",
    "#                     username=\"accretioadmin\",\n",
    "#                     password=\"adminaccretio&2017\",\n",
    "#                    authSource=\"admin\")\n",
    "\n",
    "# mydb = myclient[\"topic_detection\"]\n",
    "# mycol = mydb[\"topic_mamda\"]\n",
    "# mycol.insert_many(top_n_words)\n",
    "\n",
    "# # for i in top_n_words:\n",
    "# #     d = i\n",
    "# #     mycol.update({}, {\"$push\": {\"word-clouds\":d }}, True)"
   ]
  },
  {
   "cell_type": "code",
   "execution_count": null,
   "metadata": {},
   "outputs": [],
   "source": [
    "word_cloud = [('client',  0.10164473619525),\n",
    " ('achat', 0.0536695191734757),\n",
    " ('signature', 0.0446424663176848),\n",
    " ('contrat', 0.0438461582647775),\n",
    " ('collaborateur', 0.0417429593571477),\n",
    " ('deal', 0.0391644732495778),\n",
    " ('satisfaction', 0.0391644732495778),\n",
    " ('plaisir', 0.0380005840616882),\n",
    " ('monde', 0.0373009636334801),\n",
    " ('groupe', 0.0371027260902679)]"
   ]
  },
  {
   "cell_type": "code",
   "execution_count": null,
   "metadata": {},
   "outputs": [],
   "source": [
    "word_cloud"
   ]
  },
  {
   "cell_type": "code",
   "execution_count": null,
   "metadata": {},
   "outputs": [],
   "source": [
    "word_cloud2 = [('sport',  0.12164443618528),\n",
    " ('vélo', 0.0631695191534727),\n",
    " ('bien-être', 0.0446424663176848),\n",
    " ('santé', 0.0438461582647775),\n",
    " ('cyclisme', 0.0417429593571477),\n",
    " ('foot', 0.0391644732495778),\n",
    " ('mentale', 0.0391644732495778),\n",
    " ('activité', 0.0380005840616882),\n",
    " ('terrain', 0.0373009636334801),\n",
    " ('force', 0.0371027260902679)]"
   ]
  },
  {
   "cell_type": "code",
   "execution_count": null,
   "metadata": {},
   "outputs": [],
   "source": [
    "outlier = [('lablebi',  0.12164443618528),\n",
    " ('sac', 0.0631695191534727),\n",
    " ('cloud', 0.0446424663176848),\n",
    " ('sa7a', 0.0438461582647775),\n",
    " ('azure', 0.0417429593571477),\n",
    " ('bug', 0.0391644732495778),\n",
    " ('qa', 0.0391644732495778),\n",
    " ('easyrun', 0.0380005840616882),\n",
    " ('talent', 0.0373009636334801),\n",
    " ('git', 0.0371027260902679)]"
   ]
  },
  {
   "cell_type": "code",
   "execution_count": null,
   "metadata": {},
   "outputs": [],
   "source": [
    "word_clouds = dict()\n",
    "word_clouds[-1] = outlier\n",
    "word_clouds[0] = word_cloud2"
   ]
  },
  {
   "cell_type": "code",
   "execution_count": 41,
   "metadata": {},
   "outputs": [],
   "source": [
    "s=0\n",
    "for i in top_n_words:\n",
    "    s+= len(i[\"posts\"])"
   ]
  },
  {
   "cell_type": "code",
   "execution_count": 42,
   "metadata": {},
   "outputs": [
    {
     "data": {
      "text/plain": [
       "495"
      ]
     },
     "execution_count": 42,
     "metadata": {},
     "output_type": "execute_result"
    }
   ],
   "source": [
    "s"
   ]
  },
  {
   "cell_type": "code",
   "execution_count": 44,
   "metadata": {},
   "outputs": [
    {
     "data": {
      "text/plain": [
       "495"
      ]
     },
     "execution_count": 44,
     "metadata": {},
     "output_type": "execute_result"
    }
   ],
   "source": [
    "157*2 +51+46+43+41"
   ]
  },
  {
   "cell_type": "code",
   "execution_count": null,
   "metadata": {},
   "outputs": [],
   "source": []
  },
  {
   "cell_type": "code",
   "execution_count": null,
   "metadata": {},
   "outputs": [],
   "source": []
  }
 ],
 "metadata": {
  "kernelspec": {
   "display_name": "Python 3",
   "language": "python",
   "name": "python3"
  },
  "language_info": {
   "codemirror_mode": {
    "name": "ipython",
    "version": 3
   },
   "file_extension": ".py",
   "mimetype": "text/x-python",
   "name": "python",
   "nbconvert_exporter": "python",
   "pygments_lexer": "ipython3",
   "version": "3.7.6"
  }
 },
 "nbformat": 4,
 "nbformat_minor": 4
}
