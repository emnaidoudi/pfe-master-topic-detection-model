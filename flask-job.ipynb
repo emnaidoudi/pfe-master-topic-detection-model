{
 "cells": [
  {
   "cell_type": "code",
   "execution_count": 1,
   "metadata": {},
   "outputs": [],
   "source": [
    "import pandas as pd\n",
    "from pymongo import MongoClient"
   ]
  },
  {
   "cell_type": "code",
   "execution_count": 2,
   "metadata": {},
   "outputs": [],
   "source": [
    "host = \"localhost\"\n",
    "port = \"27017\"\n",
    "username = \"accretioadmin\"\n",
    "password = \"adminaccretio&2017\"\n",
    "authSource = \"admin\""
   ]
  },
  {
   "cell_type": "code",
   "execution_count": 3,
   "metadata": {},
   "outputs": [],
   "source": [
    "def _connect_mongo(db):\n",
    "    if username and password:\n",
    "        conn = MongoClient(host=host,\n",
    "                            port=int(port),\n",
    "                            username=username,\n",
    "                            password=password,\n",
    "                           authSource=authSource)\n",
    "    else:\n",
    "        conn = MongoClient(host, port)\n",
    "        \n",
    "    return conn[db]    \n",
    "\n",
    "\n",
    "def read_mongo(db, collection, query={}):\n",
    "    db = _connect_mongo(db=db)\n",
    "    cursor = db[collection].find(query)\n",
    "    df =  pd.DataFrame(list(cursor))\n",
    "    return df"
   ]
  },
  {
   "cell_type": "code",
   "execution_count": 4,
   "metadata": {},
   "outputs": [],
   "source": [
    "df = read_mongo(\"connectTimeline\", \"post\")"
   ]
  },
  {
   "cell_type": "code",
   "execution_count": 5,
   "metadata": {},
   "outputs": [],
   "source": [
    "df = df[[\"_id\",\"registrationNumber\",\"body\"]]"
   ]
  },
  {
   "cell_type": "code",
   "execution_count": 6,
   "metadata": {
    "scrolled": false
   },
   "outputs": [
    {
     "data": {
      "text/html": [
       "<div>\n",
       "<style scoped>\n",
       "    .dataframe tbody tr th:only-of-type {\n",
       "        vertical-align: middle;\n",
       "    }\n",
       "\n",
       "    .dataframe tbody tr th {\n",
       "        vertical-align: top;\n",
       "    }\n",
       "\n",
       "    .dataframe thead th {\n",
       "        text-align: right;\n",
       "    }\n",
       "</style>\n",
       "<table border=\"1\" class=\"dataframe\">\n",
       "  <thead>\n",
       "    <tr style=\"text-align: right;\">\n",
       "      <th></th>\n",
       "      <th>_id</th>\n",
       "      <th>registrationNumber</th>\n",
       "      <th>body</th>\n",
       "    </tr>\n",
       "  </thead>\n",
       "  <tbody>\n",
       "    <tr>\n",
       "      <th>0</th>\n",
       "      <td>5bae630cdb5d87000977308d</td>\n",
       "      <td>00115</td>\n",
       "      <td>Ooredoo, Acteur essentiel du secteur des nouve...</td>\n",
       "    </tr>\n",
       "    <tr>\n",
       "      <th>1</th>\n",
       "      <td>5bae6c48db5d870009773094</td>\n",
       "      <td>00115</td>\n",
       "      <td>Joyeux Advy'nniversaire pour tout le groupe !\\...</td>\n",
       "    </tr>\n",
       "    <tr>\n",
       "      <th>2</th>\n",
       "      <td>5bae93c1a5b16a0001ef4e4c</td>\n",
       "      <td>00132</td>\n",
       "      <td>Advyteam souhaite la bienvenue à tous ses coll...</td>\n",
       "    </tr>\n",
       "    <tr>\n",
       "      <th>3</th>\n",
       "      <td>5bae9661a5b16a0001ef4e4e</td>\n",
       "      <td>00086</td>\n",
       "      <td>Une évolution bien marquante ! qui est d'accor...</td>\n",
       "    </tr>\n",
       "    <tr>\n",
       "      <th>4</th>\n",
       "      <td>5bae968aa5b16a0001ef4e51</td>\n",
       "      <td>00086</td>\n",
       "      <td>Accretio passe à la vitesse suivante 🙂</td>\n",
       "    </tr>\n",
       "  </tbody>\n",
       "</table>\n",
       "</div>"
      ],
      "text/plain": [
       "                        _id registrationNumber  \\\n",
       "0  5bae630cdb5d87000977308d              00115   \n",
       "1  5bae6c48db5d870009773094              00115   \n",
       "2  5bae93c1a5b16a0001ef4e4c              00132   \n",
       "3  5bae9661a5b16a0001ef4e4e              00086   \n",
       "4  5bae968aa5b16a0001ef4e51              00086   \n",
       "\n",
       "                                                body  \n",
       "0  Ooredoo, Acteur essentiel du secteur des nouve...  \n",
       "1  Joyeux Advy'nniversaire pour tout le groupe !\\...  \n",
       "2  Advyteam souhaite la bienvenue à tous ses coll...  \n",
       "3  Une évolution bien marquante ! qui est d'accor...  \n",
       "4             Accretio passe à la vitesse suivante 🙂  "
      ]
     },
     "execution_count": 6,
     "metadata": {},
     "output_type": "execute_result"
    }
   ],
   "source": [
    "df.head()"
   ]
  },
  {
   "cell_type": "code",
   "execution_count": 7,
   "metadata": {},
   "outputs": [],
   "source": [
    "df = df.dropna()"
   ]
  },
  {
   "cell_type": "markdown",
   "metadata": {},
   "source": [
    "# Data cleaning"
   ]
  },
  {
   "cell_type": "code",
   "execution_count": 8,
   "metadata": {},
   "outputs": [],
   "source": [
    "def remove_emoji(string):\n",
    "    return emoji.get_emoji_regexp().sub(u'', string)"
   ]
  },
  {
   "cell_type": "code",
   "execution_count": 9,
   "metadata": {},
   "outputs": [],
   "source": [
    "import re\n",
    "import emoji\n",
    "\n",
    "def custom_stopwords(text):\n",
    "    #Case Normalization\n",
    "    text = text.lower()\n",
    "    #text = text.replace(\"mamda\",\"accretio\")\n",
    "    #cleanr = re.compile('<.*?>')\n",
    "    for_html_tags = re.sub(r'<.*?>', '', text)\n",
    "    for_links = re.sub(\"https?:\\/\\/.*[\\r\\n]*\", \"\", for_html_tags)  \n",
    "    for_alpha_numeric = re.sub(r'[^a-zA-Z0-9 àâäèéêëîïôœùûüÿçÀÂÄÈÉÊËÎÏÔŒÙÛÜŸÇ]+', '', for_links)\n",
    "    # remove emojis\n",
    "    clear_text = remove_emoji(for_alpha_numeric)\n",
    "\n",
    "    return for_alpha_numeric"
   ]
  },
  {
   "cell_type": "code",
   "execution_count": null,
   "metadata": {},
   "outputs": [],
   "source": []
  },
  {
   "cell_type": "code",
   "execution_count": 10,
   "metadata": {
    "scrolled": true
   },
   "outputs": [],
   "source": [
    "df[\"body\"] = df[\"body\"].apply(custom_stopwords)"
   ]
  },
  {
   "cell_type": "code",
   "execution_count": 11,
   "metadata": {},
   "outputs": [
    {
     "data": {
      "text/plain": [
       "0       ooredoo acteur essentiel du secteur des nouvel...\n",
       "1       joyeux advynniversaire pour tout le groupe on ...\n",
       "2       advyteam souhaite la bienvenue à tous ses coll...\n",
       "3         une évolution bien marquante  qui est daccord  \n",
       "4                   accretio passe à la vitesse suivante \n",
       "                              ...                        \n",
       "1767                                      zjtkl lglrtezer\n",
       "1768    chers advyteamiens nous cherchons à loccasion ...\n",
       "1769                                               test 1\n",
       "1770                                           test ajout\n",
       "1771                                               test 1\n",
       "Name: body, Length: 1087, dtype: object"
      ]
     },
     "execution_count": 11,
     "metadata": {},
     "output_type": "execute_result"
    }
   ],
   "source": [
    "df.body"
   ]
  },
  {
   "cell_type": "code",
   "execution_count": 12,
   "metadata": {},
   "outputs": [],
   "source": [
    "import spacy\n",
    "from spacy_lefff import LefffLemmatizer\n",
    "from spacy.language import Language\n",
    "\n",
    "@Language.factory('french_lemmatizer')\n",
    "def create_french_lemmatizer(nlp, name):\n",
    "    return LefffLemmatizer()"
   ]
  },
  {
   "cell_type": "code",
   "execution_count": 15,
   "metadata": {},
   "outputs": [
    {
     "name": "stdout",
     "output_type": "stream",
     "text": [
      "cherche VERB chercher VERB cherche\n",
      "à ADP None ADP à\n",
      "span VERB None VERB span\n",
      "strong PRON None PRON strong\n",
      "acheter VERB acheter VERB acheter\n",
      "une DET un DET un\n",
      "l' DET le DET le\n",
      "éxperience NOUN None NOUN éxperience\n",
      "startup ADJ None ADJ startup\n",
      "anglaise ADJ anglais ADJ anglais\n",
      "pour ADP None ADP pour\n",
      "milliard NOUN milliard NOUN milliard\n",
      "de ADP un ADP de\n",
      "dollard NOUN None NOUN dollard\n",
      "septembre NOUN septembre NOUN septembre\n"
     ]
    }
   ],
   "source": [
    "\n",
    "\n",
    "nlp = spacy.load('fr_core_news_md')\n",
    "nlp.add_pipe('french_lemmatizer', name='lefff')\n",
    "text = \"Emma cherche à span strong acheter une l'éxperience startup anglaise pour 1 milliard de dollard septembre\"\n",
    "doc = nlp(text)\n",
    "for d in doc:\n",
    "    if(d.pos_ != \"PROPN\" and d.pos_ != \"NUM\" and d.pos_ != \"AUX\"):\n",
    "        text = text.replace(d.text, d.lemma_)\n",
    "        print(d.text, d.pos_, d._.lefff_lemma, d.tag_, d.lemma_)"
   ]
  },
  {
   "cell_type": "code",
   "execution_count": null,
   "metadata": {},
   "outputs": [],
   "source": [
    "text"
   ]
  },
  {
   "cell_type": "code",
   "execution_count": null,
   "metadata": {},
   "outputs": [],
   "source": []
  },
  {
   "cell_type": "code",
   "execution_count": null,
   "metadata": {},
   "outputs": [],
   "source": []
  },
  {
   "cell_type": "code",
   "execution_count": null,
   "metadata": {},
   "outputs": [],
   "source": [
    "import spacy\n",
    "nlp = spacy.load('fr_core_news_md')\n",
    "\n",
    "doc = nlp(u\"voudrais non animaux yeux dors couvre.\")\n",
    "for token in doc:\n",
    "    print(token, token.lemma_)"
   ]
  },
  {
   "cell_type": "code",
   "execution_count": null,
   "metadata": {},
   "outputs": [],
   "source": []
  },
  {
   "cell_type": "code",
   "execution_count": null,
   "metadata": {},
   "outputs": [],
   "source": []
  },
  {
   "cell_type": "code",
   "execution_count": null,
   "metadata": {},
   "outputs": [],
   "source": [
    "\n",
    "def remove_emoji(string):\n",
    "    return emoji.get_emoji_regexp().sub(u'', string)\n",
    "\n",
    "emojis = '(｀ヘ´) 🤗⭕🤓🤔🤘🦁⭐🆗🆖🈲🤐🤗🤖🤑🆙⏩'\n",
    "print(remove_emoji(emojis))"
   ]
  },
  {
   "cell_type": "code",
   "execution_count": null,
   "metadata": {},
   "outputs": [],
   "source": []
  },
  {
   "cell_type": "markdown",
   "metadata": {},
   "source": [
    "##### it’s important to normalize the case of our words so that every word is in the same case and the computer doesn’t process the same word as 2 different tokens."
   ]
  },
  {
   "cell_type": "markdown",
   "metadata": {},
   "source": [
    "#### Removing Unicode : ASCII"
   ]
  },
  {
   "cell_type": "markdown",
   "metadata": {},
   "source": [
    "#### ASCII formats emojis and other non-ASCII characters as Unicode. Essentially, Unicode is a universal character encoding standard in which each character and symbol in all languages are assigned a code. Unicode is required because it is the only encoding standard that allows us to retrieve or join data using a variety of different languages but the issue is… It’s unreadable in ASCII format."
   ]
  },
  {
   "cell_type": "code",
   "execution_count": null,
   "metadata": {},
   "outputs": [],
   "source": []
  }
 ],
 "metadata": {
  "kernelspec": {
   "display_name": "Python 3",
   "language": "python",
   "name": "python3"
  },
  "language_info": {
   "codemirror_mode": {
    "name": "ipython",
    "version": 3
   },
   "file_extension": ".py",
   "mimetype": "text/x-python",
   "name": "python",
   "nbconvert_exporter": "python",
   "pygments_lexer": "ipython3",
   "version": "3.7.6"
  }
 },
 "nbformat": 4,
 "nbformat_minor": 4
}
